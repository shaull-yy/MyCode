{
 "cells": [
  {
   "cell_type": "code",
   "execution_count": null,
   "id": "4189301a",
   "metadata": {},
   "outputs": [
    {
     "name": "stdout",
     "output_type": "stream",
     "text": [
      "Selected file: C:/_Shaul/Python/_My_Code\\My_Packages\\file_selector\\file_selector\\__init__.py\n"
     ]
    }
   ],
   "source": [
    "from tkinter import Tk\n",
    "#import os\n",
    "#import sys\n",
    "from My_Utilities.utl_select_file_to_load import FileSelectorApp\n",
    "\n",
    "\n",
    "initial_directory=\"\"\n",
    "root = Tk()\n",
    "app = FileSelectorApp(root, 'Dialog Box Title')\n",
    "root.mainloop()\n",
    "\n",
    "# Access the selected file after the GUI closes\n",
    "if app.selected_file:\n",
    "    print(f\"Selected file: {app.selected_file}\")\n",
    "else:\n",
    "    print(\"No file was selected.\")\n"
   ]
  }
 ],
 "metadata": {
  "kernelspec": {
   "display_name": "Python 3",
   "language": "python",
   "name": "python3"
  },
  "language_info": {
   "codemirror_mode": {
    "name": "ipython",
    "version": 3
   },
   "file_extension": ".py",
   "mimetype": "text/x-python",
   "name": "python",
   "nbconvert_exporter": "python",
   "pygments_lexer": "ipython3",
   "version": "3.12.6"
  }
 },
 "nbformat": 4,
 "nbformat_minor": 5
}
