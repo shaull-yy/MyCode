{
 "cells": [
  {
   "cell_type": "code",
   "execution_count": 17,
   "metadata": {},
   "outputs": [],
   "source": [
    "import pandas as pd\n",
    "import os\n",
    "from datetime import datetime\n",
    "from openpyxl import load_workbook"
   ]
  },
  {
   "cell_type": "code",
   "execution_count": 18,
   "metadata": {},
   "outputs": [],
   "source": [
    "log_flag = False\n",
    "total_files = 0\n",
    "total_renamed = 0\n",
    "# Instructions. Input file should be an excel with one worsheet\n",
    "# Column with name \"Folder Name\" must have the folder path and it must end with / (like: C:\\_Shaul\\Python\\_My_Code\\Tools\\)\n",
    "# Column with name \"File Name\" must have the OLD file name (like: text1.txt)\n",
    "# Column with name \"New File Name\" must have the New file name (like: text1_new.txt)"
   ]
  },
  {
   "cell_type": "code",
   "execution_count": 19,
   "metadata": {},
   "outputs": [],
   "source": [
    "# Main\n",
    "input_file_name = 'C:/_Shaul/Python/_My_Code/Tools/Renam_Files_Test_File.xlsx'\n",
    "input_file = pd.read_excel(input_file_name)\n",
    "logging_data = pd.DataFrame(columns=['Folder Path', 'Old File', 'New File', 'Rename Status'])\n",
    "logging_data_ix = 0\n",
    "#input_file.head()\n",
    "input_file2 = pd.DataFrame()\n",
    "#input_file2['Full File Name'] = input_file['Full File Name']\n",
    "input_file2['Folder Name'] = input_file['Folder Name']\n",
    "input_file2['Old Full File Name'] = input_file['Folder Name'] + input_file['File Name']\n",
    "input_file2['New File Name'] = input_file['New File Name']\n",
    "if log_flag == True:\n",
    "\tprint(input_file2.head())"
   ]
  },
  {
   "cell_type": "code",
   "execution_count": 20,
   "metadata": {},
   "outputs": [],
   "source": [
    "def rename_one_file(old_file_name, new_file_name):\n",
    "\tstatus = \"\"\n",
    "\told_file_exists = os.path.exists(old_file_name)\n",
    "\tnew_file_exists = os.path.exists(new_file_name)\n",
    "\tif old_file_exists == True and new_file_exists == False:\n",
    "\t\tos.rename(old_file_name,new_file_name)\n",
    "\t\tstatus = \"OK\"\n",
    "\telse:\n",
    "\t\tif old_file_exists == False:\n",
    "\t\t\tprint(f'>> Error - Old file notfound, file name is: {old_file_name}')\n",
    "\t\t\tstatus = '>> Error - Old file notfound'\n",
    "\t\tif new_file_exists == True:\n",
    "\t\t\tprint(f'>> Error - New file exists, file name is: {new_file_name}')\n",
    "\t\t\tif status == \"\":\n",
    "\t\t\t\tstatus = '>> Error - New file exists'\n",
    "\t\t\telse:\n",
    "\t\t\t\tstatus = status + \" | \" + \">> Error - New file exists\"\n",
    "\treturn status"
   ]
  },
  {
   "cell_type": "code",
   "execution_count": null,
   "metadata": {},
   "outputs": [
    {
     "name": "stdout",
     "output_type": "stream",
     "text": [
      ">> Error - Old file notfound, file name is: C:\\_Shaul\\Python\\_My_Code\\Tools\\2.txt\n",
      ">> Error - New file exists, file name is: Test_File1 - Copy (2).txt\n",
      ">> Error - Old file notfound, file name is: C:\\_Shaul\\Python\\_My_Code\\Tools\\3.txt\n",
      ">> Error - New file exists, file name is: Test_File1 - Copy (3).txt\n",
      ">> Error - Old file notfound, file name is: C:\\_Shaul\\Python\\_My_Code\\Tools\\copy.txt\n",
      ">> Error - New file exists, file name is: Test_File1 - Copy.txt\n",
      ">> Error - Old file notfound, file name is: C:\\_Shaul\\Python\\_My_Code\\Tools\\file1.txt\n",
      ">> Error - New file exists, file name is: Test_File1.txt\n",
      "Excel file saved with adjusted column widths!\n",
      "\n",
      "Program ended succesfully\n",
      "Total Files in input file: 4 \n",
      "Total files renames: 0\n",
      "\n",
      "Program used the following input file: C:/_Shaul/Python/_My_Code/Tools/Renam_Files_Test_File.xlsx\n",
      "The \"\"log_flag\"\" flag is set to False \n",
      "The log file with rename status is in file: C:/_Shaul/Python/_My_Code/Tools/Renam_Files_Test_File_LOG.xlsx \n"
     ]
    }
   ],
   "source": [
    "for xl_row in input_file2.itertuples(index=False):\n",
    "\t#print(xl_row[0],xl_row[1],xl_row[2],xl_row[3])\n",
    "\ttotal_files += 1\n",
    "\tfolder_path = xl_row[0]\n",
    "\told_file_name = xl_row[1]\n",
    "\tnew_file_name = xl_row[2]\n",
    "\tif log_flag == True:\n",
    "\t\tprint(f\"Old: {old_file_name}    New: {new_file_name}\")\n",
    "\trename_status = rename_one_file(old_file_name, new_file_name)\n",
    "\tif rename_status == 'OK':\n",
    "\t\ttotal_renamed += 1\n",
    "\tlogging_data.loc[logging_data_ix] = [folder_path, old_file_name, new_file_name, rename_status]\n",
    "\tlogging_data_ix += 1\n",
    "\n",
    "now=datetime.now()\n",
    "logging_data.loc[logging_data_ix] = ['Date: '+ now.strftime(\"%A, %B %d, %Y\"),'','','']   # format: \"Friday, April 18, 2025\"\n",
    "logging_data_file_name = input_file_name\n",
    "dot_position = input_file_name.rfind('.')\n",
    "logging_data_file_name = input_file_name[:dot_position] + '_LOG' + input_file_name[dot_position:]\n",
    "logging_data.to_excel(logging_data_file_name, index=False)\n",
    "\n",
    "wb = load_workbook(logging_data_file_name)\n",
    "ws = wb.active\n",
    "for col in ws.columns:\n",
    "    max_length = max(len(str(cell.value)) for cell in col if cell.value)  # Find longest cell\n",
    "    col_letter = col[0].column_letter  # Get column letter\n",
    "    ws.column_dimensions[col_letter].width = max_length + 2  # Adjust width\n",
    "\n",
    "wb.save(logging_data_file_name)\n",
    "#print(\"Excel file saved with adjusted column widths!\")\n",
    "os.startfile(logging_data_file_name)\n",
    "\n",
    "print(f'\\nProgram ended succesfully\\nTotal Files in input file: {total_files} \\nTotal files renames: {total_renamed}')\n",
    "print(f'\\nProgram used the following input file: {input_file_name}')\n",
    "print(f'The \"\"log_flag\"\" flag is set to {log_flag} ')\n",
    "print(f'The log file with rename status is in file: {logging_data_file_name} ')"
   ]
  }
 ],
 "metadata": {
  "kernelspec": {
   "display_name": "Python 3",
   "language": "python",
   "name": "python3"
  },
  "language_info": {
   "codemirror_mode": {
    "name": "ipython",
    "version": 3
   },
   "file_extension": ".py",
   "mimetype": "text/x-python",
   "name": "python",
   "nbconvert_exporter": "python",
   "pygments_lexer": "ipython3",
   "version": "3.12.6"
  }
 },
 "nbformat": 4,
 "nbformat_minor": 2
}
